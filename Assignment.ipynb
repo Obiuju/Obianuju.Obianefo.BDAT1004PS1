{
 "cells": [
  {
   "cell_type": "markdown",
   "id": "a0bf37bb-86f2-4e49-9d7e-5b9add0b1391",
   "metadata": {},
   "source": [
    "# Question 1\n",
    "What data type is each of the following (evaluate where necessary)?\r"
   ]
  },
  {
   "cell_type": "code",
   "execution_count": null,
   "id": "88ee64e6-4852-47b6-a0c2-8d2c33b82cab",
   "metadata": {},
   "outputs": [],
   "source": [
    "# Answer\n",
    "5                      Integer\n",
    "5.0                    Float\n",
    "5 > 1                  Boolean\n",
    "'5'                    String\n",
    "5 * 2                  Integer\n",
    "'5' * 2                String\n",
    "'5' + '2'              String\n",
    "5 / 2                  Integer\n",
    "5 % 2                  Integer\n",
    "{5, 2, 1}              Set\n",
    "5 == 3                 Boolean\n",
    "Pi (the number)        Python Dictionary"
   ]
  },
  {
   "cell_type": "markdown",
   "id": "96796033-2d8b-4ffe-93f5-19de88e18e89",
   "metadata": {},
   "source": [
    "# Question 2\n",
    "Write (and evaluate) python expressions that answer these questions:\r\n",
    "a. How many letters are there in 'Supercalifragilisticexpialidocious'?\r\n",
    "b. Does 'Supercalifragilisticexpialidocious' contain 'ice' as a substring\n",
    "c. Which of the following words is the longest:\r\n",
    "Supercalifragilisticexpialidocious, Honorificabilitudinitatibus, or\r\n",
    "Bababadalgharaghtakamminarronnkonn?\r\n",
    "d. Which composer comes first in the dictionary: 'Berlioz', 'Borodin', 'Brian',\r\n",
    "'Bartok', 'Bellini', 'Buxtehude', 'Bernstein'. Which one comes last?\r",
    "? "
   ]
  },
  {
   "cell_type": "code",
   "execution_count": 2,
   "id": "09a9237f-0355-4216-953b-cd05829f8bb0",
   "metadata": {},
   "outputs": [
    {
     "name": "stdout",
     "output_type": "stream",
     "text": [
      "34\n"
     ]
    }
   ],
   "source": [
    "#Answer a.\n",
    "print(len('Supercalifragilisticexpialidocious'))"
   ]
  },
  {
   "cell_type": "code",
   "execution_count": 3,
   "id": "021f9f9f-546c-44b6-bfac-61fd788d3193",
   "metadata": {},
   "outputs": [
    {
     "name": "stdout",
     "output_type": "stream",
     "text": [
      "True\n"
     ]
    }
   ],
   "source": [
    "#Answer b.\n",
    "print('ice' in 'Supercalifragilisticexpialidocious')\n",
    "\n"
   ]
  },
  {
   "cell_type": "code",
   "execution_count": 11,
   "id": "cadae651-bc31-43a8-b605-3f6c0a840219",
   "metadata": {},
   "outputs": [
    {
     "name": "stdout",
     "output_type": "stream",
     "text": [
      "The longest word is: Supercalifragilisticexpialidocious\n"
     ]
    }
   ],
   "source": [
    "#Answer c.\n",
    "words = [\n",
    "    \"Supercalifragilisticexpialidocious\",\n",
    "    \"Honorificabilitudinitatibus\",\n",
    "    \"Bababadalgharaghtakamminarronnkonn\"\n",
    "]\n",
    "\n",
    "longestWord = \"\"\n",
    "maxLength = 0\n",
    "\n",
    "for word in words:\n",
    "    if len(word) > maxLength:\n",
    "        longestWord = word\n",
    "        maxLength = len(word)\n",
    "\n",
    "print(f\"The longest word is: {longestWord}\")"
   ]
  },
  {
   "cell_type": "code",
   "execution_count": 9,
   "id": "4113b582-d096-4a80-ab2e-1476f52dd434",
   "metadata": {},
   "outputs": [
    {
     "name": "stdout",
     "output_type": "stream",
     "text": [
      "The first word will be =>  Bartok\n",
      "The last word will be =>  Buxtehude\n"
     ]
    }
   ],
   "source": [
    "#Answer d.\n",
    "bWords = ['Berlioz', 'Borodin', 'Brian',\n",
    "'Bartok', 'Bellini', 'Buxtehude', 'Bernstein']\n",
    "\n",
    "#using the Min() and Max() functions\n",
    "firstComposer = min(bWords)\n",
    "lastComposer = max(bWords)\n",
    "\n",
    "#printing the longest word\n",
    "print(\"The first word will be => \",firstComposer)\n",
    "print(\"The last word will be => \",lastComposer)"
   ]
  },
  {
   "cell_type": "markdown",
   "id": "011fbecd-9236-4130-9697-33f87d907e3b",
   "metadata": {},
   "source": [
    "# Question 3\n",
    "\n",
    "Implement function triangleArea(a,b,c) that takes as input the lengths of the 3\n",
    "sides of a triangle and returns the area of the triangle. By Heron's formula, the area\n",
    "of a triangle with side lengths a, b, and c is\n",
    "s(s - a)(s -b)(s -c)\n",
    ", where\n",
    "s = (a+b+c)/2.\n",
    ">>> triangleArea(2,2,2)\n",
    "1.7320508075688772\n"
   ]
  },
  {
   "cell_type": "code",
   "execution_count": 12,
   "id": "aba954a9-a20a-4c82-8a83-4f4155643b7f",
   "metadata": {},
   "outputs": [
    {
     "name": "stdout",
     "output_type": "stream",
     "text": [
      "triangleArea(2,2,2)=  1.7320508075688772\n"
     ]
    }
   ],
   "source": [
    "#Answer\n",
    "import math\n",
    "\n",
    "# calculating the s\n",
    "def s(a, b, c):\n",
    "    return (a + b + c) / 2\n",
    "\n",
    "# calculating the area of a triangle using Heron's formula\n",
    "def areaOfTriangle(a, b, c):\n",
    "  \n",
    "    semi = s(a, b, c)\n",
    "    \n",
    "    area = math.sqrt(semi * (semi - a) * (semi - b) * (semi - c))\n",
    "    return area\n",
    "#imputing the values:\n",
    "area = areaOfTriangle(2, 2, 2)\n",
    "print(\"triangleArea(2,2,2)= \",area)\n"
   ]
  },
  {
   "cell_type": "markdown",
   "id": "35b0327e-53a4-427f-adde-70afc31de748",
   "metadata": {},
   "source": [
    "# Question 4\n",
    "Write a program in python to separate odd and even integers in separate arrays. Go\n",
    "to the editor\n",
    "Test Data :\n",
    "Input the number of elements to be stored in the array :5\n",
    "Input 5 elements in the array :\n",
    "element - 0 : 25\n",
    "element - 1 : 47\n",
    "element - 2 : 42\n",
    "element - 3 : 56\n",
    "element - 4 : 32\n",
    "Expected Output:\n",
    "The Even elements are:\n",
    "42 56 32\n",
    "The Odd elements are :\n",
    "25 47"
   ]
  },
  {
   "cell_type": "code",
   "execution_count": 33,
   "id": "71918e17-5ee1-4218-a3cf-a5c64db85fc3",
   "metadata": {},
   "outputs": [
    {
     "name": "stdout",
     "output_type": "stream",
     "text": [
      "The Odd Elements are: [25, 47]\n",
      "The Even elements are: [42, 56, 32]\n"
     ]
    }
   ],
   "source": [
    "#Answer\n",
    "def oddEven(numbers):\n",
    "    oddNumbers = []\n",
    "    evenNumbers = []\n",
    "    for num in numbers:\n",
    "        if num % 2 == 0:\n",
    "            evenNumbers.append(num)\n",
    "        else:\n",
    "            oddNumbers.append(num)\n",
    "    return oddNumbers, evenNumbers\n",
    "\n",
    "#imputing the values:\n",
    "numbers = [25, 47, 42, 56, 32]\n",
    "oddNumbers, evenNumbers = oddEven(numbers)\n",
    "\n",
    "#Printing the numbers:\n",
    "print(\"The Odd Elements are:\", oddNumbers)\n",
    "print(\"The Even elements are:\", evenNumbers)"
   ]
  },
  {
   "cell_type": "markdown",
   "id": "ae2c2fa2-cdbd-45df-b146-b66b56ae7c2f",
   "metadata": {},
   "source": [
    "# Question 5\n",
    "a. Write a function inside(x,y,x1,y1,x2,y2) that returns True or False\n",
    "depending on whether the point (x,y) lies in the rectangle with lower left\n",
    "corner (x1,y1) and upper right corner (x2,y2).\n",
    ">>> inside(1,1,0,0,2,3)\n",
    "True\n",
    ">>> inside(-1,-1,0,0,2,3)\n",
    "False\n",
    "b. Use function inside() from part a. to write an expression that tests whether\n",
    "the point (1,1) lies in both of the following rectangles: one with lower left\n",
    "corner (0.3, 0.5) and upper right corner (1.1, 0.7) and the other with lower\n",
    "left corner (0.5, 0.2) and upper right corner (1.1, 2). "
   ]
  },
  {
   "cell_type": "code",
   "execution_count": 17,
   "id": "06040818-84f7-4281-a47d-368f9949cb19",
   "metadata": {},
   "outputs": [
    {
     "name": "stdout",
     "output_type": "stream",
     "text": [
      "True\n"
     ]
    }
   ],
   "source": [
    "#Answer (the overarching formula)\n",
    "def inside(x, y, x1, y1, x2, y2):\n",
    "    return x1 <= x <= x2 and y1 <= y <= y2 "
   ]
  },
  {
   "cell_type": "code",
   "execution_count": 53,
   "id": "fd670196-e368-49da-b081-1b579dedc01b",
   "metadata": {},
   "outputs": [
    {
     "name": "stdout",
     "output_type": "stream",
     "text": [
      "inside(1,1,0,0,2,3) True\n"
     ]
    }
   ],
   "source": [
    "#Answer a(1), a follow-up from above\n",
    "#imputing the values\n",
    "\n",
    "point_x, point_y = 1, 1\n",
    "point_x1, point_y1 = 0, 0\n",
    "point_x2, point_y2 = 2, 3\n",
    "\n",
    "result = inside(point_x, point_y, point_x1, point_y1, point_x2, point_y2)\n",
    "print(\"inside(1,1,0,0,2,3)\",result)"
   ]
  },
  {
   "cell_type": "code",
   "execution_count": 25,
   "id": "67243ffc-f65d-467b-9c8b-b88d77eaf3f9",
   "metadata": {},
   "outputs": [
    {
     "name": "stdout",
     "output_type": "stream",
     "text": [
      "inside(-1,-1,0,0,2,3) False\n"
     ]
    }
   ],
   "source": [
    "#Answer a(2), a follow-up from above\n",
    "#imputing the values\n",
    "point_x, point_y = -1, -1\n",
    "point_x1, point_y1 = 0, 0\n",
    "point_x2, point_y2 = 2, 3\n",
    "\n",
    "result = inside(point_x, point_y, point_x1, point_y1, point_x2, point_y2)\n",
    "print(\"inside(-1,-1,0,0,2,3)\",result)"
   ]
  },
  {
   "cell_type": "code",
   "execution_count": 26,
   "id": "9b24af00-d276-449e-836a-2800adceb17e",
   "metadata": {},
   "outputs": [
    {
     "name": "stdout",
     "output_type": "stream",
     "text": [
      "inside(1,1,0.5,0.2,1.1,2) True\n"
     ]
    }
   ],
   "source": [
    "#Answer b(1), a follow-up from above\n",
    "#imputing the values\n",
    "point_x, point_y = 1, 1\n",
    "point_x1, point_y1 = 0.5, 0.2\n",
    "point_x2, point_y2 = 1.1, 2\n",
    "\n",
    "result = inside(point_x, point_y, point_x1, point_y1, point_x2, point_y2)\n",
    "print(\"inside(1,1,0.5,0.2,1.1,2)\",result)"
   ]
  },
  {
   "cell_type": "code",
   "execution_count": 27,
   "id": "52cc847c-346f-4990-96e2-9ee9a047fcfe",
   "metadata": {},
   "outputs": [
    {
     "name": "stdout",
     "output_type": "stream",
     "text": [
      "inside(1,1,0.3,0.5,1.1,0.7) False\n"
     ]
    }
   ],
   "source": [
    "#Answer b(2), a follow-up from above\n",
    "#imputing the values\n",
    "point_x, point_y = 1, 1\n",
    "point_x1, point_y1 = 0.3, 0.5\n",
    "point_x2, point_y2 = 1.1, 0.7\n",
    "\n",
    "result = inside(point_x, point_y, point_x1, point_y1, point_x2, point_y2)\n",
    "print(\"inside(1,1,0.3,0.5,1.1,0.7)\",result)"
   ]
  },
  {
   "cell_type": "markdown",
   "id": "85494c1d-9016-45d8-b6bd-fe4359492946",
   "metadata": {},
   "source": [
    "# Question 6\n",
    "You can turn a word into pig-Latin using the following two rules (simplified):\n",
    "• If the word starts with a consonant, move that letter to the end and append\n",
    "'ay'. For example, 'happy' becomes 'appyhay' and 'pencil' becomes 'encilpay'.\n",
    "• If the word starts with a vowel, simply append 'way' to the end of the word.\n",
    "For example, 'enter' becomes 'enterway' and 'other' becomes 'otherway' . For\n",
    "our purposes, there are 5 vowels: a, e, i, o, u (so we count y as a consonant).\n",
    "Write a function pig() that takes a word (i.e., a string) as input and returns its pigLatin form. Your function should still work if the input word contains upper case\n",
    "characters. Your output should always be lower case however.\n",
    ">>> pig('happy')\n",
    "'appyhay'\n",
    ">>> pig('Enter')\n",
    "'enterway' "
   ]
  },
  {
   "cell_type": "code",
   "execution_count": 58,
   "id": "e93e69a6-e6c2-4d59-bfa2-1cfe119bb02f",
   "metadata": {},
   "outputs": [
    {
     "name": "stdout",
     "output_type": "stream",
     "text": [
      "pig ('happy') -> appyhay\n",
      "pig ('enter') -> enterway\n"
     ]
    }
   ],
   "source": [
    "#Answer:\n",
    "def pig(word):\n",
    "    vowels = 'aeiou'\n",
    "    \n",
    "   \n",
    "    if word[0].lower() in vowels:\n",
    "        return (word + 'way').lower()\n",
    "    else:\n",
    "        return (word[1:] + word[0] + 'ay').lower()\n",
    "\n",
    "\n",
    "words = ['happy', 'enter']\n",
    "pigLatinWords = [pig(word) for word in words]\n",
    "\n",
    "#formal =letters before the changes\n",
    "for formal, pigLatin in zip(words, pigLatinWords):\n",
    "    print(f\"pig ('{formal}') -> {pigLatin}\")"
   ]
  },
  {
   "cell_type": "markdown",
   "id": "e594307f-46df-4d7a-ae7b-0ebf478b990b",
   "metadata": {},
   "source": [
    "# Question 7\n",
    "File bloodtype1.txt records blood-types of patients (A, B, AB, O or OO) at a clinic.\n",
    "Write a function bldcount() that reads the file with name name and reports (i.e.,\n",
    "prints) how many patients there are in each bloodtype.\n",
    ">>> bldcount('bloodtype.txt')\n",
    "There are 10 patients of blood type A.\n",
    "There is one patient of blood type B.\n",
    "There are 10 patients of blood type AB.\n",
    "There are 12 patients of blood type O.\n",
    "There are no patients of blood type OO.\n"
   ]
  },
  {
   "cell_type": "code",
   "execution_count": 52,
   "id": "578bca57-bdf5-4672-9a18-3853b9268d83",
   "metadata": {
    "scrolled": true
   },
   "outputs": [
    {
     "name": "stdout",
     "output_type": "stream",
     "text": [
      "There are 15 patients with blood type A.\n",
      "There are 1 patients with blood type B.\n",
      "There are 13 patients with blood type AB.\n",
      "There are 15 patients with blood type O.\n",
      "There are 0 patients with blood type OO.\n"
     ]
    }
   ],
   "source": [
    "import os\n",
    "\n",
    "def bldcount(filename):\n",
    "\n",
    "    #confirming the presence of file in the directory\n",
    "    currentDirectory = os.getcwd()\n",
    "    \n",
    "   #calling forth the file\n",
    "    fullPath = os.path.join(currentDirectory, filename)\n",
    "    \n",
    "   \n",
    "    bloodTypes = {\"A\": 0, \"B\": 0, \"AB\": 0, \"O\": 0, \"OO\": 0}\n",
    "    \n",
    "    \n",
    "    if not os.path.isfile(fullPath):\n",
    "        print(f\"File {filename} not found {currentDirectory}.\")\n",
    "        return\n",
    "\n",
    "    \n",
    "    with open(fullPath, 'r') as file:\n",
    "        contents = file.read()\n",
    "        \n",
    "        #to divide the content of the file \n",
    "        bloodList = contents.split()\n",
    "        \n",
    "        #for each item on the list, move to the next after each\n",
    "        for bloodType in bloodList:\n",
    "            if bloodType in bloodTypes:\n",
    "                bloodTypes[bloodType] += 1\n",
    "    \n",
    "   \n",
    "    for bloodType, count in bloodTypes.items():\n",
    "        print(f\"There are {count} patients with blood type {bloodType}.\")\n",
    "\n",
    "#printing of the file content\n",
    "bldcount('bloodtype1.txt')"
   ]
  },
  {
   "cell_type": "markdown",
   "id": "bbc2eda9-f2df-42b7-a3a9-3e6cadf1fbb3",
   "metadata": {},
   "source": [
    "# Question 8\n",
    "Write a function curconv() that takes as input:\n",
    "1. a currency represented using a string (e.g., 'JPY' for the Japanese Yen or\n",
    "'EUR' for the Euro)\n",
    "2. an amount\n",
    "and then converts and returns the amount in US dollars."
   ]
  },
  {
   "cell_type": "code",
   "execution_count": 54,
   "id": "166c5865-770d-4bed-a205-e4ff4a7d5d53",
   "metadata": {},
   "outputs": [],
   "source": [
    "#Answer:(overarching function)\n",
    "def curconv(currency, amount):\n",
    "   \n",
    "    with open('currencies (1).txt', 'r') as file:\n",
    "        lines = file.readlines()\n",
    "\n",
    "\n",
    "    conversionRates = {}\n",
    "    for line in lines:\n",
    "        parts = line.split()\n",
    "        conversionRates[parts[0]] = float(parts[1])\n",
    "\n",
    "  \n",
    "    if currency in conversionRates:\n",
    "        rate = conversionRates[currency]\n",
    "        convertedAmount = amount * rate\n",
    "        return convertedAmount\n",
    "    else:\n",
    "        return \"Currency not found.\""
   ]
  },
  {
   "cell_type": "code",
   "execution_count": 55,
   "id": "dac5b0e5-5ac1-42b7-bb4e-65e9101d8732",
   "metadata": {},
   "outputs": [
    {
     "name": "stdout",
     "output_type": "stream",
     "text": [
      "100 JPY is 1.241401 USD\n"
     ]
    }
   ],
   "source": [
    "#Answer a, a follow-up from above\n",
    "currencyCode = 'JPY'\n",
    "currencyAmount = 100\n",
    "convertedAmount = curconv(currencyCode, currencyAmount)\n",
    "print(f\"{currencyAmount} {currencyCode} is {convertedAmount} USD\")"
   ]
  },
  {
   "cell_type": "code",
   "execution_count": 56,
   "id": "cc713107-d930-41db-8654-76a09ff225f2",
   "metadata": {},
   "outputs": [
    {
     "name": "stdout",
     "output_type": "stream",
     "text": [
      "100 EUR is 122.96544 USD\n"
     ]
    }
   ],
   "source": [
    "#Answer b, a follow-up from above\n",
    "#curconv('EUR', 100)\n",
    "currencyCode = 'EUR'\n",
    "currencyAmount = 100\n",
    "convertedAmount = curconv(currencyCode, currencyAmount)\n",
    "print(f\"{currencyAmount} {currencyCode} is {convertedAmount} USD\")"
   ]
  },
  {
   "cell_type": "markdown",
   "id": "0695591a-48b3-4d25-b4b7-7cf3b924ea07",
   "metadata": {},
   "source": [
    "# Question 9\n",
    "Each of the following will cause an exception (an error). Identify what type of\n",
    "exception each will cause.\n",
    "a. Trying to add incompatible variables, as in\n",
    "adding 6 + ‘a’\n",
    "b. Referring to the 12th item of a list that has only 10\n",
    "items\n",
    "3. Using a value that is out of range for a function’s\n",
    "input, such as calling math.sqrt(-1.0)\n",
    "4. Using an undeclared variable, such as print(x)\n",
    "when x has not been defined\n",
    "5. Trying to open a file that does not exist, such as\n",
    "mistyping the file name or looking in the wrong\n",
    "directory. "
   ]
  },
  {
   "cell_type": "code",
   "execution_count": 34,
   "id": "ca3a16e8-4402-4433-99db-40a756e74798",
   "metadata": {},
   "outputs": [
    {
     "ename": "SyntaxError",
     "evalue": "invalid syntax (332160693.py, line 2)",
     "output_type": "error",
     "traceback": [
      "\u001b[1;36m  Cell \u001b[1;32mIn[34], line 2\u001b[1;36m\u001b[0m\n\u001b[1;33m    1. TypeError: unsupported operand type(s) for +: 'int' and 'str'\u001b[0m\n\u001b[1;37m       ^\u001b[0m\n\u001b[1;31mSyntaxError\u001b[0m\u001b[1;31m:\u001b[0m invalid syntax\n"
     ]
    }
   ],
   "source": [
    "#Answer:\n",
    "1. TypeError: unsupported operand type(s) for +: 'int' and 'str'\n",
    "2. IndexError: list index out of range\n",
    "3. ValueError: math domain error\n",
    "4. NameError: name 'x' is not defined\n",
    "5. FileNotFoundError: [Errno 2] No such file or directory: 'nonexistentfile.txt'"
   ]
  },
  {
   "cell_type": "markdown",
   "id": "0fe58464-4470-496b-a6ff-cd9f21998ba9",
   "metadata": {},
   "source": [
    "# Question 10\n",
    "Encryption is the process of hiding the meaning of a text by substituting letters in the\n",
    "message with other letters, according to some system. If the process is successful, no\n",
    "one but the intended recipient can understand the encrypted message. Cryptanalysis\n",
    "refers to attempts to undo the encryption, even if some details of the encryption are\n",
    "unknown (for example, if an encrypted message has been intercepted). The first step\n",
    "of cryptanalysis is often to build up a table of letter frequencies in the encrypted text.\n",
    "Assume that the string letters is already defined as\n",
    "'abcdefghijklmnopqrstuvwxyz'. Write a function called frequencies()\n",
    "that takes a string as its only parameter, and returns a list of integers, showing the\n",
    "number of times each character appears in the text. Your function may ignore any\n",
    "characters that are not in letters. "
   ]
  },
  {
   "cell_type": "code",
   "execution_count": 59,
   "id": "14767e07-b9d9-49c6-af06-a5ac4f9c7ed7",
   "metadata": {},
   "outputs": [],
   "source": [
    "#Answer: the overarching function\n",
    "def frequencies(text):\n",
    "    letters = 'abcdefghijklmnopqrstuvwxyz'\n",
    "    frequencyList = [0] * 26  \n",
    "\n",
    "  \n",
    "    for char in text:\n",
    "        if char in letters:\n",
    "            index = letters.index(char)\n",
    "            frequencyList[index] += 1\n",
    "\n",
    "    # for numbers not zero\n",
    "    numFrequencies = [frequency for frequency in frequencyList if frequency > 0]\n",
    "\n",
    "    return numFrequencies\n",
    "                               "
   ]
  },
  {
   "cell_type": "code",
   "execution_count": 60,
   "id": "30a7388e-114b-4c76-8350-ae5d8550f288",
   "metadata": {},
   "outputs": [
    {
     "name": "stdout",
     "output_type": "stream",
     "text": [
      "[1, 1, 1, 3, 5, 1, 1, 2, 1, 1, 1, 2, 4, 1, 2, 2, 1, 1, 1]\n"
     ]
    }
   ],
   "source": [
    "#Answer a, a follow-up from above\n",
    "inputText = \"The quick red fox got bored and went home.\"\n",
    "print(frequencies(inputText)) "
   ]
  },
  {
   "cell_type": "code",
   "execution_count": 61,
   "id": "4a57d7b6-1a60-450d-a02e-5476949d1695",
   "metadata": {},
   "outputs": [
    {
     "name": "stdout",
     "output_type": "stream",
     "text": [
      "[1, 1, 2]\n"
     ]
    }
   ],
   "source": [
    "#Answer b, a follow-up from above\n",
    "inputText = \"Apple\"\n",
    "print(frequencies(inputText)) "
   ]
  },
  {
   "cell_type": "code",
   "execution_count": null,
   "id": "eb38ecb5-e2d7-47a0-9d35-9a4b31cc83a8",
   "metadata": {},
   "outputs": [],
   "source": []
  }
 ],
 "metadata": {
  "kernelspec": {
   "display_name": "Python 3 (ipykernel)",
   "language": "python",
   "name": "python3"
  },
  "language_info": {
   "codemirror_mode": {
    "name": "ipython",
    "version": 3
   },
   "file_extension": ".py",
   "mimetype": "text/x-python",
   "name": "python",
   "nbconvert_exporter": "python",
   "pygments_lexer": "ipython3",
   "version": "3.11.7"
  }
 },
 "nbformat": 4,
 "nbformat_minor": 5
}
